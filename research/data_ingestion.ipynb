{
 "cells": [
  {
   "cell_type": "code",
   "execution_count": 1,
   "id": "71edc945",
   "metadata": {},
   "outputs": [],
   "source": [
    "import os"
   ]
  },
  {
   "cell_type": "code",
   "execution_count": 2,
   "id": "4c3eabf8",
   "metadata": {},
   "outputs": [
    {
     "data": {
      "text/plain": [
       "'c:\\\\Users\\\\NARINDER\\\\Desktop\\\\Youtube Project\\\\research'"
      ]
     },
     "execution_count": 2,
     "metadata": {},
     "output_type": "execute_result"
    }
   ],
   "source": [
    "%pwd"
   ]
  },
  {
   "cell_type": "code",
   "execution_count": 3,
   "id": "86f1b464",
   "metadata": {},
   "outputs": [],
   "source": [
    "os.chdir('..')"
   ]
  },
  {
   "cell_type": "code",
   "execution_count": 4,
   "id": "afe7c6f4",
   "metadata": {},
   "outputs": [
    {
     "data": {
      "text/plain": [
       "'c:\\\\Users\\\\NARINDER\\\\Desktop\\\\Youtube Project'"
      ]
     },
     "execution_count": 4,
     "metadata": {},
     "output_type": "execute_result"
    }
   ],
   "source": [
    "%pwd"
   ]
  },
  {
   "cell_type": "code",
   "execution_count": 5,
   "id": "6569d03b",
   "metadata": {},
   "outputs": [],
   "source": [
    "from dataclasses import dataclass\n",
    "from pathlib import Path\n",
    "\n",
    "# Dataclass is just a decorator that automatically adds special methods to classes, \n",
    "# like __init__() and __repr__(), based on class attributes. \n",
    "\n",
    "# It simplifies the creation of classes that primarily store data.\n",
    "@dataclass(frozen=True)\n",
    "class dataIngestionConfig:\n",
    "    root_dir: Path\n",
    "    source_URL: str\n",
    "    local_data_file: Path\n",
    "    unzip_dir: Path"
   ]
  },
  {
   "cell_type": "code",
   "execution_count": 6,
   "id": "59ae4c8f",
   "metadata": {},
   "outputs": [],
   "source": [
    "from src.cnnClassifier.constants import *\n",
    "from src.cnnClassifier.utils.common import read_yaml, create_directories\n",
    "\n",
    "class ConfigurationManager:\n",
    "    def __init__(self,\n",
    "                 config_filepath = CONFIG_FILE_PATH,\n",
    "                 params_filepath = PARAMS_FILE_PATH):\n",
    "        self.config = read_yaml(config_filepath)\n",
    "        self.params = read_yaml(params_filepath)\n",
    "        create_directories([self.config.artifact_root])\n",
    "\n",
    "    def get_data_ingestion_config(self) -> dataIngestionConfig:\n",
    "        config = self.config.data_ingestion\n",
    "\n",
    "        create_directories([config.root_dir])\n",
    "\n",
    "        data_ingestion_config = dataIngestionConfig(\n",
    "            root_dir=Path(config.root_dir),\n",
    "            source_URL=config.source_URL,\n",
    "            local_data_file=Path(config.local_data_file),\n",
    "            unzip_dir=Path(config.unzip_dir)\n",
    "        )\n",
    "\n",
    "        return data_ingestion_config"
   ]
  },
  {
   "cell_type": "code",
   "execution_count": 7,
   "id": "a2f5f1ec",
   "metadata": {},
   "outputs": [],
   "source": [
    "import zipfile\n",
    "import os\n",
    "import gdown\n",
    "from src.cnnClassifier import logger\n",
    "\n",
    "class DataIngestion:\n",
    "    def __init__(self, config: dataIngestionConfig):\n",
    "        self.config = config\n",
    "\n",
    "    def download_file(self) -> Path:\n",
    "        if os.path.exists(self.config.local_data_file):\n",
    "            logger.info(f\"File already exists at {self.config.local_data_file}. Skipping download.\")\n",
    "        else:\n",
    "            logger.info(f\"Downloading file from {self.config.source_URL} to {self.config.local_data_file}\")\n",
    "            gdown.download(url=self.config.source_URL, output=self.config.local_data_file, quiet=False)\n",
    "            logger.info(f\"File downloaded successfully to {self.config.local_data_file}\")\n",
    "        return self.config.local_data_file\n",
    "\n",
    "    def extract_zip_file(self, zip_file_path: Path):\n",
    "        logger.info(f\"Extracting zip file {zip_file_path} to directory {self.config.unzip_dir}\")\n",
    "        with zipfile.ZipFile(zip_file_path, 'r') as zip_ref:\n",
    "            zip_ref.extractall(self.config.unzip_dir)\n",
    "        logger.info(f\"Extraction completed successfully to directory {self.config.unzip_dir}\")\n",
    "\n",
    "    def initiate_data_ingestion(self):\n",
    "        zip_file_path = self.download_file()\n",
    "        self.extract_zip_file(zip_file_path)\n",
    "        return self.config.unzip_dir"
   ]
  }
 ],
 "metadata": {
  "kernelspec": {
   "display_name": "project",
   "language": "python",
   "name": "python3"
  },
  "language_info": {
   "codemirror_mode": {
    "name": "ipython",
    "version": 3
   },
   "file_extension": ".py",
   "mimetype": "text/x-python",
   "name": "python",
   "nbconvert_exporter": "python",
   "pygments_lexer": "ipython3",
   "version": "3.12.6"
  }
 },
 "nbformat": 4,
 "nbformat_minor": 5
}
