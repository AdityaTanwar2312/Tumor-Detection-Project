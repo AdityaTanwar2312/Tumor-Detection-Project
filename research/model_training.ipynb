{
 "cells": [
  {
   "cell_type": "code",
   "execution_count": 1,
   "id": "06c96a72",
   "metadata": {},
   "outputs": [],
   "source": [
    "import os"
   ]
  },
  {
   "cell_type": "code",
   "execution_count": 2,
   "id": "17928f92",
   "metadata": {},
   "outputs": [
    {
     "data": {
      "text/plain": [
       "'c:\\\\Users\\\\NARINDER\\\\Desktop\\\\Youtube Project\\\\research'"
      ]
     },
     "execution_count": 2,
     "metadata": {},
     "output_type": "execute_result"
    }
   ],
   "source": [
    "%pwd"
   ]
  },
  {
   "cell_type": "code",
   "execution_count": 3,
   "id": "c0792df9",
   "metadata": {},
   "outputs": [],
   "source": [
    "os.chdir('..')"
   ]
  },
  {
   "cell_type": "code",
   "execution_count": 4,
   "id": "16af3e4b",
   "metadata": {},
   "outputs": [
    {
     "data": {
      "text/plain": [
       "'c:\\\\Users\\\\NARINDER\\\\Desktop\\\\Youtube Project'"
      ]
     },
     "execution_count": 4,
     "metadata": {},
     "output_type": "execute_result"
    }
   ],
   "source": [
    "%pwd"
   ]
  },
  {
   "cell_type": "code",
   "execution_count": null,
   "id": "f5999b71",
   "metadata": {},
   "outputs": [],
   "source": [
    "from dataclasses import dataclass\n",
    "from pathlib import Path\n",
    "\n",
    "@dataclass(frozen=True)\n",
    "class TrainingConfig:\n",
    "    root_dir: Path\n",
    "    trained_model_path: Path\n",
    "    training_data: Path\n",
    "    updated_base_model_path: Path\n",
    "    param_epochs: int\n",
    "    param_batch_size: int\n",
    "    param_image_size: list\n",
    "    param_is_augmentation: bool"
   ]
  },
  {
   "cell_type": "code",
   "execution_count": 6,
   "id": "95fa5a51",
   "metadata": {},
   "outputs": [],
   "source": [
    "from src.cnnClassifier.constants import *\n",
    "from src.cnnClassifier.utils.common import read_yaml, create_directories\n",
    "import tensorflow as tf\n",
    "\n",
    "class ConfigurationManager:\n",
    "    def __init__(self,\n",
    "                 config_filepath=CONFIG_FILE_PATH,\n",
    "                 params_filepath=PARAMS_FILE_PATH):\n",
    "        self.config = read_yaml(config_filepath)\n",
    "        self.params = read_yaml(params_filepath)\n",
    "        create_directories([self.config.artifact_root])\n",
    "\n",
    "    def get_training_config(self) -> TrainingConfig:\n",
    "        training_config = self.config.training\n",
    "\n",
    "        root_dir = Path(training_config.root_dir)\n",
    "        create_directories([root_dir])\n",
    "\n",
    "        training_data = Path(self.config.data_ingestion.unzip_dir)\n",
    "        updated_base_model_path = Path(self.config.prepare_base_model.updated_base_model_path)\n",
    "\n",
    "        param_epochs = self.params.EPOCHS\n",
    "        param_batch_size = self.params.BATCH_SIZE\n",
    "        param_image_size = self.params.IMAGE_SIZE\n",
    "        param_is_augmentation = self.params.AUGMENTATION\n",
    "\n",
    "        training_config = TrainingConfig(\n",
    "            root_dir=root_dir,\n",
    "            trained_model_path=Path(training_config.trained_model_path),\n",
    "            training_data=training_data,\n",
    "            updated_base_model_path=updated_base_model_path,\n",
    "            param_epochs=param_epochs,\n",
    "            param_batch_size=param_batch_size,\n",
    "            param_image_size=param_image_size,\n",
    "            param_is_augmentation=param_is_augmentation\n",
    "        )\n",
    "\n",
    "        return training_config"
   ]
  },
  {
   "cell_type": "code",
   "execution_count": 7,
   "id": "67a29917",
   "metadata": {},
   "outputs": [],
   "source": [
    "import os\n",
    "from urllib.request import Request\n",
    "from zipfile import ZipFile\n",
    "import tensorflow as tf\n",
    "import time"
   ]
  },
  {
   "cell_type": "code",
   "execution_count": 8,
   "id": "6390f5ca",
   "metadata": {},
   "outputs": [],
   "source": [
    "class ModelTrainer:\n",
    "    def __init__(self, config: TrainingConfig):\n",
    "        self.config = config\n",
    "\n",
    "    def train_valid_generator(self):\n",
    "        datagen_kwargs = dict(rescale=1./255, validation_split=0.20)\n",
    "        dataflow_kwargs = dict(target_size=self.config.param_image_size[:2],\n",
    "                               batch_size=self.config.param_batch_size,\n",
    "                               interpolation=\"bilinear\")\n",
    "\n",
    "        if self.config.param_is_augmentation:\n",
    "            train_datagen = tf.keras.preprocessing.image.ImageDataGenerator(\n",
    "                rotation_range=20,\n",
    "                horizontal_flip=True,\n",
    "                width_shift_range=0.1,\n",
    "                height_shift_range=0.1,\n",
    "                shear_range=0.1,\n",
    "                zoom_range=0.2,\n",
    "                **datagen_kwargs\n",
    "            )\n",
    "        else:\n",
    "            train_datagen = tf.keras.preprocessing.image.ImageDataGenerator(**datagen_kwargs)\n",
    "\n",
    "        valid_datagen = tf.keras.preprocessing.image.ImageDataGenerator(**datagen_kwargs)\n",
    "\n",
    "        self.train_generator = train_datagen.flow_from_directory(\n",
    "            directory=self.config.training_data.as_posix(),\n",
    "            subset=\"training\",\n",
    "            shuffle=True,\n",
    "            **dataflow_kwargs\n",
    "        )\n",
    "\n",
    "        self.valid_generator = valid_datagen.flow_from_directory(\n",
    "            directory=self.config.training_data.as_posix(),\n",
    "            subset=\"validation\",\n",
    "            shuffle=False,\n",
    "            **dataflow_kwargs\n",
    "        )\n",
    "    \n",
    "    def load_base_model(self):\n",
    "        self.model = tf.keras.models.load_model(self.config.updated_base_model_path)\n",
    "\n",
    "    @staticmethod\n",
    "    def save_model(model, path: Path):\n",
    "        model.save(path)\n",
    "    \n",
    "    def train(self):\n",
    "        self.step_per_epoch = self.train_generator.samples // self.config.param_batch_size\n",
    "        self.validation_steps = self.valid_generator.samples // self.config.param_batch_size\n",
    "\n",
    "        self.model.fit(\n",
    "            self.train_generator,\n",
    "            epochs=self.config.param_epochs,\n",
    "            steps_per_epoch=self.step_per_epoch,\n",
    "            validation_data=self.valid_generator,\n",
    "            validation_steps=self.validation_steps,\n",
    "        )\n",
    "        self.save_model(model=self.model, path=self.config.trained_model_path)"
   ]
  },
  {
   "cell_type": "code",
   "execution_count": null,
   "id": "b6212989",
   "metadata": {},
   "outputs": [],
   "source": [
    "try:\n",
    "    config = ConfigurationManager()\n",
    "    training_config = config.get_training_config()\n",
    "    model_trainer = ModelTrainer(config=training_config)\n",
    "    model_trainer.load_base_model()\n",
    "    model_trainer.train_valid_generator()\n",
    "    model_trainer.train()\n",
    "except Exception as e:\n",
    "    raise e"
   ]
  }
 ],
 "metadata": {
  "kernelspec": {
   "display_name": "project",
   "language": "python",
   "name": "python3"
  },
  "language_info": {
   "codemirror_mode": {
    "name": "ipython",
    "version": 3
   },
   "file_extension": ".py",
   "mimetype": "text/x-python",
   "name": "python",
   "nbconvert_exporter": "python",
   "pygments_lexer": "ipython3",
   "version": "3.12.6"
  }
 },
 "nbformat": 4,
 "nbformat_minor": 5
}
